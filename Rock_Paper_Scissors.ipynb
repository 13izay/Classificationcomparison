{
  "nbformat": 4,
  "nbformat_minor": 0,
  "metadata": {
    "colab": {
      "provenance": [],
      "mount_file_id": "15rzCn15D4K365ja4cWSnikJrSfQpOLyc",
      "authorship_tag": "ABX9TyPqyqG97NO8xZhMSNn+9SY+",
      "include_colab_link": true
    },
    "kernelspec": {
      "name": "python3",
      "display_name": "Python 3"
    },
    "accelerator": "GPU"
  },
  "cells": [
    {
      "cell_type": "markdown",
      "metadata": {
        "id": "view-in-github",
        "colab_type": "text"
      },
      "source": [
        "<a href=\"https://colab.research.google.com/github/13izay/Classificationcomparison/blob/main/Rock_Paper_Scissors.ipynb\" target=\"_parent\"><img src=\"https://colab.research.google.com/assets/colab-badge.svg\" alt=\"Open In Colab\"/></a>"
      ]
    },
    {
      "cell_type": "code",
      "metadata": {
        "id": "9K0G8a_UJRm0"
      },
      "source": [
        "try:\n",
        "   %tensorflow_version 2.x\n",
        "except Exception:\n",
        "  pass\n",
        "import tensorflow as tf"
      ],
      "execution_count": null,
      "outputs": []
    },
    {
      "cell_type": "code",
      "metadata": {
        "id": "w6nLKC9QLg11"
      },
      "source": [
        "from tensorflow.keras.models import Sequential\n",
        "from tensorflow.keras.layers import Conv2D, Dense, Flatten, MaxPooling2D, Dropout\n",
        "from tensorflow.keras.preprocessing.image import ImageDataGenerator\n",
        "import os\n",
        "import numpy as np\n",
        "import matplotlib.pyplot as plt\n",
        "from tensorflow import keras\n"
      ],
      "execution_count": null,
      "outputs": []
    },
    {
      "cell_type": "markdown",
      "metadata": {
        "id": "NvEOKyNRfwl_"
      },
      "source": [
        "##Import the zip file and extract the contents"
      ]
    },
    {
      "cell_type": "code",
      "metadata": {
        "id": "bI_GRJ99XIGM"
      },
      "source": [
        "#URL_=\"https://drive.google.com/open?id=1tsFxSWLlmZbWAoKqvbs6DS9IHJcvsbS3\"\n",
        "#path_to_zip= keras.utils.get_file(\"R_P_S.zip\", origin=URL_, extract=True, cache_dir=\"/content/\", cache_subdir=\"game_data\")\n",
        "#PATH= os.path.join(os.path.dirname(path_to_zip), \"R_P_S\")"
      ],
      "execution_count": null,
      "outputs": []
    },
    {
      "cell_type": "markdown",
      "metadata": {
        "id": "wwKHGPYTgLnO"
      },
      "source": [
        "####Extraction of contents using !unzip"
      ]
    },
    {
      "cell_type": "code",
      "metadata": {
        "id": "19xeDy79Y4Yj"
      },
      "source": [
        "!unzip -q \"/content/drive/My Drive/R_P_S.zip\""
      ],
      "execution_count": null,
      "outputs": []
    },
    {
      "cell_type": "markdown",
      "metadata": {
        "id": "eE7f2Dj6gN_O"
      },
      "source": [
        "## Defining a path for the data"
      ]
    },
    {
      "cell_type": "code",
      "metadata": {
        "id": "Mxz5teQmam-T"
      },
      "source": [
        "PATH= os.path.join(\"/content/R_P_S\")"
      ],
      "execution_count": null,
      "outputs": []
    },
    {
      "cell_type": "markdown",
      "metadata": {
        "id": "Cjhm5DPVgSVw"
      },
      "source": [
        "###Defining directory path for training and validation data"
      ]
    },
    {
      "cell_type": "code",
      "metadata": {
        "id": "rIr1amRRdDIw"
      },
      "source": [
        "train_dir= os.path.join(PATH,\"train\")\n",
        "valid_dir= os.path.join(PATH,\"valid\")\n",
        "test_dir= os.path.join(PATH,\"test\")"
      ],
      "execution_count": null,
      "outputs": []
    },
    {
      "cell_type": "markdown",
      "metadata": {
        "id": "OQjDpK-Yh05R"
      },
      "source": [
        "##Set up variables for preprocessing"
      ]
    },
    {
      "cell_type": "code",
      "metadata": {
        "id": "NqWdcsVHfnJx"
      },
      "source": [
        "batch_size=25\n",
        "Epochs=20\n",
        "IMG_HEIGHT= 500\n",
        "IMG_WIDTH= 500\n"
      ],
      "execution_count": null,
      "outputs": []
    },
    {
      "cell_type": "markdown",
      "metadata": {
        "id": "mME_9ebZjLOj"
      },
      "source": [
        "##Data Preparation"
      ]
    },
    {
      "cell_type": "markdown",
      "metadata": {
        "id": "9vVS6WbKmdQW"
      },
      "source": [
        "### Setting the image parameters in the format we want to download "
      ]
    },
    {
      "cell_type": "code",
      "metadata": {
        "id": "6NPY7HngiC3P"
      },
      "source": [
        "train_data_generator= keras.preprocessing.image.ImageDataGenerator(rescale=1./255, \n",
        "                                                                   zoom_range=0.5,\n",
        "                                                                   height_shift_range=.15,\n",
        "                                                                   width_shift_range=.15,\n",
        "                                                                   horizontal_flip=True,\n",
        "                                                                   rotation_range=45)\n",
        "                                                                   \n",
        "valid_data_generator= ImageDataGenerator(rescale=1./255, \n",
        "                                        zoom_range=0.5,\n",
        "                                        height_shift_range=.15,\n",
        "                                        width_shift_range=.15,\n",
        "                                        horizontal_flip=True,\n",
        "                                        rotation_range=45)"
      ],
      "execution_count": null,
      "outputs": []
    },
    {
      "cell_type": "markdown",
      "metadata": {
        "id": "5cFUeQ_ymlwE"
      },
      "source": [
        "###Downloading images from directory "
      ]
    },
    {
      "cell_type": "code",
      "metadata": {
        "id": "Awr1tMCUknj1"
      },
      "source": [
        "train_data= train_data_generator.flow_from_directory(batch_size=batch_size, \n",
        "                                                     directory= train_dir, \n",
        "                                                     shuffle=True, \n",
        "                                                     target_size=[IMG_HEIGHT,IMG_WIDTH])\n",
        "valid_data= valid_data_generator.flow_from_directory(batch_size=batch_size,\n",
        "                                                     directory=valid_dir,\n",
        "                                                     shuffle=True,\n",
        "                                                     target_size=[IMG_HEIGHT,IMG_WIDTH])"
      ],
      "execution_count": null,
      "outputs": []
    },
    {
      "cell_type": "markdown",
      "metadata": {
        "id": "_HhjXeBBnG_0"
      },
      "source": [
        "##Visualize images "
      ]
    },
    {
      "cell_type": "code",
      "metadata": {
        "id": "zIov9TbSmZtI"
      },
      "source": [
        "sample_train_images,_= next(train_data) #extracts one batch of training image, (here:without label)"
      ],
      "execution_count": null,
      "outputs": []
    },
    {
      "cell_type": "code",
      "metadata": {
        "id": "rW0ZFhaBm6-r"
      },
      "source": [
        "plt.imshow(sample_train_images[24])"
      ],
      "execution_count": null,
      "outputs": []
    },
    {
      "cell_type": "code",
      "metadata": {
        "id": "CmscOkweoSeJ"
      },
      "source": [
        "def plotImages(img_array):\n",
        "  fig, axes= plt.subplots(1,5, figsize=(10,10))\n",
        "  axes= axes.flatten()\n",
        "  for img, ax in zip(img_array, axes):\n",
        "    ax.imshow(img)\n",
        "    ax.axis(\"off\")\n",
        "  plt.tight_layout()\n",
        "  plt.show()\n"
      ],
      "execution_count": null,
      "outputs": []
    },
    {
      "cell_type": "code",
      "metadata": {
        "id": "cN3Uds5Ssqqy"
      },
      "source": [
        "plotImages(sample_train_images[:5])"
      ],
      "execution_count": null,
      "outputs": []
    },
    {
      "cell_type": "markdown",
      "metadata": {
        "id": "j9PILOsw7WIs"
      },
      "source": [
        "##Create model"
      ]
    },
    {
      "cell_type": "code",
      "metadata": {
        "id": "pjbXQ7Mkswo8"
      },
      "source": [
        "model= Sequential([\n",
        "  Conv2D(16, 3, strides=1, padding=\"same\", activation= \"relu\", input_shape=(IMG_HEIGHT, IMG_WIDTH,3)),\n",
        "  MaxPooling2D(),\n",
        "  \n",
        "\n",
        "  Conv2D(32,3, strides=1, padding=\"same\", activation=\"relu\"),\n",
        "  MaxPooling2D(),\n",
        "  Dropout(0.2),\n",
        "\n",
        "  Conv2D(64,3, strides=1, padding=\"SAME\", activation=\"relu\"),\n",
        "  MaxPooling2D(),\n",
        "  \n",
        "\n",
        "   Conv2D(128,3 , strides=1, padding=\"SAME\", activation=\"relu\"),\n",
        "   MaxPooling2D(),\n",
        "   Dropout(0.2),\n",
        "\n",
        "    Flatten(),\n",
        "    Dense(128, activation=\"relu\"),\n",
        "  \n",
        "    Dense(512, activation=\"relu\"),\n",
        " \n",
        "    Dense(3)\n",
        "])"
      ],
      "execution_count": null,
      "outputs": []
    },
    {
      "cell_type": "code",
      "metadata": {
        "id": "_E8aws4qKjNr"
      },
      "source": [
        "#model= Sequential([\n",
        " #   Conv2D(16, 3, padding='same', activation='relu', \n",
        "  #         input_shape=(IMG_HEIGHT, IMG_WIDTH ,3)),\n",
        "   # MaxPooling2D(),\n",
        "   # Dropout(0.2),\n",
        "   # Conv2D(32, 3, padding='same', activation='relu'),\n",
        "   # MaxPooling2D(),\n",
        "   # Conv2D(64, 3, padding='same', activation='relu'),\n",
        "   # MaxPooling2D(),\n",
        "   # Dropout(0.2),\n",
        "   # Flatten(),\n",
        "   # Dense(512, activation='relu'),\n",
        "   # Dense(1)\n",
        "#])"
      ],
      "execution_count": null,
      "outputs": []
    },
    {
      "cell_type": "code",
      "metadata": {
        "id": "odQyhcUkI0Wp"
      },
      "source": [
        "model.summary()"
      ],
      "execution_count": null,
      "outputs": []
    },
    {
      "cell_type": "code",
      "metadata": {
        "id": "hYzfi5Wj9XRE"
      },
      "source": [
        "model.compile(keras.optimizers.Adam(learning_rate=0.001),\n",
        "              loss=keras.losses.BinaryCrossentropy(from_logits=True),\n",
        "              metrics=[\"accuracy\"])"
      ],
      "execution_count": null,
      "outputs": []
    },
    {
      "cell_type": "code",
      "metadata": {
        "id": "qjU6wnKq-R4_"
      },
      "source": [
        "history= model.fit_generator(\n",
        "    train_data,\n",
        "    validation_data=valid_data,\n",
        "    epochs=Epochs\n",
        ")"
      ],
      "execution_count": null,
      "outputs": []
    },
    {
      "cell_type": "code",
      "metadata": {
        "id": "WrxNfDZ8NZPc"
      },
      "source": [
        "acc = history.history['accuracy']\n",
        "val_acc = history.history['val_accuracy']\n",
        "\n",
        "loss=history.history['loss']\n",
        "val_loss=history.history['val_loss']\n",
        "\n",
        "epochs_range = range(Epochs)\n",
        "\n",
        "plt.figure(figsize=(15, 8))\n",
        "plt.subplot(1, 2, 1)\n",
        "plt.plot(epochs_range, acc, label='Training Accuracy')\n",
        "plt.plot(epochs_range, val_acc, label='Validation Accuracy')\n",
        "plt.legend(loc='lower right')\n",
        "plt.title('Training and Validation Accuracy')\n",
        "\n",
        "plt.subplot(1, 2, 2)\n",
        "plt.plot(epochs_range, loss, label='Training Loss')\n",
        "plt.plot(epochs_range, val_loss, label='Validation Loss')\n",
        "plt.legend(loc='upper right')\n",
        "plt.title('Training and Validation Loss')\n",
        "plt.show()"
      ],
      "execution_count": null,
      "outputs": []
    },
    {
      "cell_type": "code",
      "metadata": {
        "id": "-j-y3pBvdbVH"
      },
      "source": [],
      "execution_count": null,
      "outputs": []
    }
  ]
}