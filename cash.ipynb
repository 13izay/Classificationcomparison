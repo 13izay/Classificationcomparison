{
  "nbformat": 4,
  "nbformat_minor": 0,
  "metadata": {
    "colab": {
      "provenance": [],
      "include_colab_link": true
    },
    "kernelspec": {
      "name": "python3",
      "display_name": "Python 3"
    },
    "accelerator": "GPU"
  },
  "cells": [
    {
      "cell_type": "markdown",
      "metadata": {
        "id": "view-in-github",
        "colab_type": "text"
      },
      "source": [
        "<a href=\"https://colab.research.google.com/github/13izay/Classificationcomparison/blob/main/cash.ipynb\" target=\"_parent\"><img src=\"https://colab.research.google.com/assets/colab-badge.svg\" alt=\"Open In Colab\"/></a>"
      ]
    },
    {
      "cell_type": "code",
      "metadata": {
        "id": "vig3bI2Ldmc5",
        "outputId": "9324e08a-9bc2-48d2-be49-bec02441c61f",
        "colab": {
          "base_uri": "https://localhost:8080/",
          "height": 34
        }
      },
      "source": [
        "try:\n",
        "  %tensorflow_version 2.x\n",
        "except Exception:\n",
        "  pass\n",
        "import tensorflow as tf"
      ],
      "execution_count": null,
      "outputs": [
        {
          "output_type": "stream",
          "text": [
            "TensorFlow 2.x selected.\n"
          ],
          "name": "stdout"
        }
      ]
    },
    {
      "cell_type": "code",
      "metadata": {
        "id": "vYUSLNiodnqt",
        "outputId": "8ef91546-6b9b-4a2e-ad60-3536c220b7c3",
        "colab": {
          "base_uri": "https://localhost:8080/",
          "height": 34
        }
      },
      "source": [
        "import sklearn\n",
        "from sklearn import metrics\n",
        "from tensorflow import keras\n",
        "from keras.models import Sequential\n",
        "from keras.layers import Conv2D, MaxPool2D, Flatten, Dense, Dropout\n",
        "from keras.preprocessing.image import ImageDataGenerator\n",
        "\n",
        "import os"
      ],
      "execution_count": null,
      "outputs": [
        {
          "output_type": "stream",
          "text": [
            "Using TensorFlow backend.\n"
          ],
          "name": "stderr"
        }
      ]
    },
    {
      "cell_type": "code",
      "metadata": {
        "id": "_OugkEmEduCI",
        "outputId": "bcd16373-9cd0-4871-b298-1c3b07dd43e2",
        "colab": {
          "base_uri": "https://localhost:8080/",
          "height": 51
        }
      },
      "source": [
        "URL_=\"https://storage.googleapis.com/cashrecog/cash_data.zip\"\n",
        "path_to_zip= keras.utils.get_file(\"cash_data.zip\", origin=URL_, extract=True, cache_dir=\"/content/\", cache_subdir=\"datasets_cash\" )\n",
        "PATH= os.path.join(os.path.dirname(path_to_zip),\"cash_data\" )\n"
      ],
      "execution_count": null,
      "outputs": [
        {
          "output_type": "stream",
          "text": [
            "Downloading data from https://storage.googleapis.com/cashrecog/cash_data.zip\n",
            "2492047360/2492039499 [==============================] - 34s 0us/step\n"
          ],
          "name": "stdout"
        }
      ]
    },
    {
      "cell_type": "code",
      "metadata": {
        "id": "NuoidrUjdwvF"
      },
      "source": [
        "train_dir= os.path.join(PATH, \"train\")\n",
        "valid_dir= os.path.join(PATH, \"valid\")\n",
        "\n",
        "Epoch=10\n",
        "IMG_HEIGHT=150\n",
        "IMG_WIDTH=150\n",
        "Batch_size=100"
      ],
      "execution_count": null,
      "outputs": []
    },
    {
      "cell_type": "code",
      "metadata": {
        "id": "JTX9anJUd2ka"
      },
      "source": [
        "train_image_generator= ImageDataGenerator(rescale=1./255,\n",
        "                                          height_shift_range=.15,\n",
        "                                          width_shift_range=.15,\n",
        "                                          zoom_range=0.5,\n",
        "                                          vertical_flip=True,\n",
        "                                          rotation_range=45)\n",
        "\n",
        "valid_image_generator= ImageDataGenerator(rescale=1./255,\n",
        "                                          height_shift_range=.15,\n",
        "                                          width_shift_range=.15,\n",
        "                                          zoom_range=0.5,\n",
        "                                          vertical_flip=True,\n",
        "                                          rotation_range=45)\n"
      ],
      "execution_count": null,
      "outputs": []
    },
    {
      "cell_type": "code",
      "metadata": {
        "id": "eDwsXDuqd6UZ",
        "outputId": "8cbdbaa5-a8cc-46d5-b600-fcb4ba58c2a7",
        "colab": {
          "base_uri": "https://localhost:8080/",
          "height": 51
        }
      },
      "source": [
        "train_data= train_image_generator.flow_from_directory(train_dir,\n",
        "                                                      target_size=[IMG_HEIGHT,IMG_WIDTH],\n",
        "                                                      shuffle=True,\n",
        "                                                      batch_size=Batch_size)\n",
        "valid_data= train_image_generator.flow_from_directory(valid_dir,\n",
        "                                                      target_size=[IMG_HEIGHT,IMG_WIDTH],\n",
        "                                                      shuffle=True,\n",
        "                                                      batch_size=Batch_size)\n"
      ],
      "execution_count": null,
      "outputs": [
        {
          "output_type": "stream",
          "text": [
            "Found 10500 images belonging to 7 classes.\n",
            "Found 3500 images belonging to 7 classes.\n"
          ],
          "name": "stdout"
        }
      ]
    },
    {
      "cell_type": "code",
      "metadata": {
        "id": "4ySz4zkAd9cZ",
        "outputId": "a54d4018-ae75-482c-955f-21d22b8401b9",
        "colab": {
          "base_uri": "https://localhost:8080/",
          "height": 394
        }
      },
      "source": [
        "pre_model=keras.applications.VGG16(input_shape=[IMG_HEIGHT,IMG_WIDTH,3], include_top=False, weights=\"imagenet\")\n",
        "\n",
        "for i, layer in enumerate(pre_model.layers):\n",
        "  print(i, layer.name)\n",
        "\n",
        "for layer in pre_model.layers[:6]:\n",
        "  layer.trainable=True\n"
      ],
      "execution_count": null,
      "outputs": [
        {
          "output_type": "stream",
          "text": [
            "Downloading data from https://github.com/fchollet/deep-learning-models/releases/download/v0.1/vgg16_weights_tf_dim_ordering_tf_kernels_notop.h5\n",
            "58892288/58889256 [==============================] - 6s 0us/step\n",
            "0 input_1\n",
            "1 block1_conv1\n",
            "2 block1_conv2\n",
            "3 block1_pool\n",
            "4 block2_conv1\n",
            "5 block2_conv2\n",
            "6 block2_pool\n",
            "7 block3_conv1\n",
            "8 block3_conv2\n",
            "9 block3_conv3\n",
            "10 block3_pool\n",
            "11 block4_conv1\n",
            "12 block4_conv2\n",
            "13 block4_conv3\n",
            "14 block4_pool\n",
            "15 block5_conv1\n",
            "16 block5_conv2\n",
            "17 block5_conv3\n",
            "18 block5_pool\n"
          ],
          "name": "stdout"
        }
      ]
    },
    {
      "cell_type": "code",
      "metadata": {
        "id": "FBaYJn5leCZO",
        "outputId": "08c8bcf4-937f-404d-f5fb-7aef28e29eb8",
        "colab": {
          "base_uri": "https://localhost:8080/",
          "height": 799
        }
      },
      "source": [
        "pre_model.summary()"
      ],
      "execution_count": null,
      "outputs": [
        {
          "output_type": "stream",
          "text": [
            "Model: \"vgg16\"\n",
            "_________________________________________________________________\n",
            "Layer (type)                 Output Shape              Param #   \n",
            "=================================================================\n",
            "input_1 (InputLayer)         [(None, 150, 150, 3)]     0         \n",
            "_________________________________________________________________\n",
            "block1_conv1 (Conv2D)        (None, 150, 150, 64)      1792      \n",
            "_________________________________________________________________\n",
            "block1_conv2 (Conv2D)        (None, 150, 150, 64)      36928     \n",
            "_________________________________________________________________\n",
            "block1_pool (MaxPooling2D)   (None, 75, 75, 64)        0         \n",
            "_________________________________________________________________\n",
            "block2_conv1 (Conv2D)        (None, 75, 75, 128)       73856     \n",
            "_________________________________________________________________\n",
            "block2_conv2 (Conv2D)        (None, 75, 75, 128)       147584    \n",
            "_________________________________________________________________\n",
            "block2_pool (MaxPooling2D)   (None, 37, 37, 128)       0         \n",
            "_________________________________________________________________\n",
            "block3_conv1 (Conv2D)        (None, 37, 37, 256)       295168    \n",
            "_________________________________________________________________\n",
            "block3_conv2 (Conv2D)        (None, 37, 37, 256)       590080    \n",
            "_________________________________________________________________\n",
            "block3_conv3 (Conv2D)        (None, 37, 37, 256)       590080    \n",
            "_________________________________________________________________\n",
            "block3_pool (MaxPooling2D)   (None, 18, 18, 256)       0         \n",
            "_________________________________________________________________\n",
            "block4_conv1 (Conv2D)        (None, 18, 18, 512)       1180160   \n",
            "_________________________________________________________________\n",
            "block4_conv2 (Conv2D)        (None, 18, 18, 512)       2359808   \n",
            "_________________________________________________________________\n",
            "block4_conv3 (Conv2D)        (None, 18, 18, 512)       2359808   \n",
            "_________________________________________________________________\n",
            "block4_pool (MaxPooling2D)   (None, 9, 9, 512)         0         \n",
            "_________________________________________________________________\n",
            "block5_conv1 (Conv2D)        (None, 9, 9, 512)         2359808   \n",
            "_________________________________________________________________\n",
            "block5_conv2 (Conv2D)        (None, 9, 9, 512)         2359808   \n",
            "_________________________________________________________________\n",
            "block5_conv3 (Conv2D)        (None, 9, 9, 512)         2359808   \n",
            "_________________________________________________________________\n",
            "block5_pool (MaxPooling2D)   (None, 4, 4, 512)         0         \n",
            "=================================================================\n",
            "Total params: 14,714,688\n",
            "Trainable params: 14,714,688\n",
            "Non-trainable params: 0\n",
            "_________________________________________________________________\n"
          ],
          "name": "stdout"
        }
      ]
    },
    {
      "cell_type": "code",
      "metadata": {
        "id": "ZKDWImKyeFxJ"
      },
      "source": [
        "model= tf.keras.models.Sequential([\n",
        "    pre_model,\n",
        "    tf.keras.layers.Flatten(),\n",
        "    tf.keras.layers.Dense(256, activation=\"relu\"),\n",
        "    tf.keras.layers.Dense(512, activation=\"relu\"),\n",
        "    tf.keras.layers.Dropout(0.2),\n",
        "    tf.keras.layers.Dense(256, activation=\"relu\"),\n",
        "    tf.keras.layers.Dense(7, activation=\"softmax\")\n",
        "])\n",
        "\n",
        "\n"
      ],
      "execution_count": null,
      "outputs": []
    },
    {
      "cell_type": "code",
      "metadata": {
        "id": "qMXnJFoVeLKa"
      },
      "source": [
        "model.compile(keras.optimizers.Adam(learning_rate=0.001),\n",
        "              keras.losses.BinaryCrossentropy(),\n",
        "              metrics=[\"accuracy\"])\n",
        "\n"
      ],
      "execution_count": null,
      "outputs": []
    },
    {
      "cell_type": "code",
      "metadata": {
        "id": "BkrT-vr1eOGM",
        "outputId": "20d85b7c-f416-4fc5-969c-36cba360876b",
        "colab": {
          "base_uri": "https://localhost:8080/",
          "height": 598
        }
      },
      "source": [
        "model.fit_generator(\n",
        "    train_data,\n",
        "    validation_data=valid_data,\n",
        "    epochs=Epoch\n",
        ")\n"
      ],
      "execution_count": null,
      "outputs": [
        {
          "output_type": "stream",
          "text": [
            "WARNING:tensorflow:From <ipython-input-11-a4897e54fe0a>:4: Model.fit_generator (from tensorflow.python.keras.engine.training) is deprecated and will be removed in a future version.\n",
            "Instructions for updating:\n",
            "Please use Model.fit, which supports generators.\n",
            "WARNING:tensorflow:sample_weight modes were coerced from\n",
            "  ...\n",
            "    to  \n",
            "  ['...']\n",
            "WARNING:tensorflow:sample_weight modes were coerced from\n",
            "  ...\n",
            "    to  \n",
            "  ['...']\n",
            "Train for 105 steps, validate for 35 steps\n",
            "Epoch 1/10\n",
            "105/105 [==============================] - 246s 2s/step - loss: 0.4114 - accuracy: 0.8554 - val_loss: 0.3834 - val_accuracy: 0.8571\n",
            "Epoch 2/10\n",
            "105/105 [==============================] - 232s 2s/step - loss: 0.3621 - accuracy: 0.8619 - val_loss: 0.3289 - val_accuracy: 0.8673\n",
            "Epoch 3/10\n",
            "105/105 [==============================] - 230s 2s/step - loss: 0.3084 - accuracy: 0.8710 - val_loss: 0.3074 - val_accuracy: 0.8675\n",
            "Epoch 4/10\n",
            "105/105 [==============================] - 228s 2s/step - loss: 0.2378 - accuracy: 0.8931 - val_loss: 0.2036 - val_accuracy: 0.9018\n",
            "Epoch 5/10\n",
            "105/105 [==============================] - 219s 2s/step - loss: 0.1738 - accuracy: 0.9233 - val_loss: 0.1965 - val_accuracy: 0.9158\n",
            "Epoch 6/10\n",
            "105/105 [==============================] - 213s 2s/step - loss: 0.1455 - accuracy: 0.9419 - val_loss: 0.1719 - val_accuracy: 0.9310\n",
            "Epoch 7/10\n",
            "105/105 [==============================] - 216s 2s/step - loss: 0.1003 - accuracy: 0.9618 - val_loss: 0.1562 - val_accuracy: 0.9458\n",
            "Epoch 8/10\n",
            "105/105 [==============================] - 211s 2s/step - loss: 0.0873 - accuracy: 0.9677 - val_loss: 0.0947 - val_accuracy: 0.9661\n",
            "Epoch 9/10\n",
            "105/105 [==============================] - 212s 2s/step - loss: 0.0557 - accuracy: 0.9810 - val_loss: 0.0809 - val_accuracy: 0.9722\n",
            "Epoch 10/10\n",
            "105/105 [==============================] - 210s 2s/step - loss: 0.0460 - accuracy: 0.9842 - val_loss: 0.1273 - val_accuracy: 0.9605\n"
          ],
          "name": "stdout"
        },
        {
          "output_type": "execute_result",
          "data": {
            "text/plain": [
              "<tensorflow.python.keras.callbacks.History at 0x7f3873343320>"
            ]
          },
          "metadata": {
            "tags": []
          },
          "execution_count": 11
        }
      ]
    },
    {
      "cell_type": "code",
      "metadata": {
        "id": "vC05WXHMeO1m"
      },
      "source": [
        "save_path=\"/content/drive/My Drive/cash_model.h5\"\n",
        "model.save(save_path)"
      ],
      "execution_count": null,
      "outputs": []
    },
    {
      "cell_type": "code",
      "metadata": {
        "id": "cwOBMTk9n9T1"
      },
      "source": [
        "weights_path=\"/content/drive/My Drive/cash_weights.ckpt\"\n",
        "model.save_weights(weights_path)"
      ],
      "execution_count": null,
      "outputs": []
    },
    {
      "cell_type": "code",
      "metadata": {
        "id": "w5GcfIlVoIjC"
      },
      "source": [],
      "execution_count": null,
      "outputs": []
    }
  ]
}