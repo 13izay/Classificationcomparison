{
  "nbformat": 4,
  "nbformat_minor": 0,
  "metadata": {
    "colab": {
      "name": "Comparison of Classification _Bijay Paudel.ipynb",
      "provenance": [],
      "collapsed_sections": []
    },
    "kernelspec": {
      "name": "python3",
      "display_name": "Python 3"
    }
  },
  "cells": [
    {
      "cell_type": "markdown",
      "metadata": {
        "id": "9ELBUNWog7Hq"
      },
      "source": [
        "#Comparison of different classification models\n",
        "##wine, breastcancer, digits datasets\n",
        "###1.Load Datasets(3, one in csv)\n",
        "###2.preprocessing and visualization\n",
        "###3.initialize classifiers: SVM(linear, poly, gaussian), Logistic Regression\n",
        "###4.train and predict\n",
        "###5.evaluate and compare(confusion matrix)\n",
        "\n",
        "\n"
      ]
    },
    {
      "cell_type": "markdown",
      "metadata": {
        "id": "o0cvVojwhg6b"
      },
      "source": [
        "#Import Packages"
      ]
    },
    {
      "cell_type": "code",
      "metadata": {
        "id": "oreUOCjJT6PG"
      },
      "source": [
        "import numpy as np\n",
        "import matplotlib.pyplot as plt\n",
        "\n",
        "import pandas as pd\n",
        "from sklearn import datasets, linear_model, model_selection, svm, metrics\n",
        "import seaborn as sns"
      ],
      "execution_count": null,
      "outputs": []
    },
    {
      "cell_type": "markdown",
      "metadata": {
        "id": "z49s8wMUkURd"
      },
      "source": [
        "# Loading Datasets "
      ]
    },
    {
      "cell_type": "code",
      "metadata": {
        "id": "7i_tFrKWhvKa"
      },
      "source": [
        "# 2 from sklearn and 1 from local in .csv format\n",
        "brcancer= pd.read_csv(\"/content/data.csv\")\n",
        "wine_x, wine_y= datasets.load_wine(return_X_y=True)\n",
        "digit_x, digit_y= datasets.load_digits(return_X_y=True)"
      ],
      "execution_count": null,
      "outputs": []
    },
    {
      "cell_type": "code",
      "metadata": {
        "id": "ErXTUutukKkL",
        "outputId": "088449d2-cfbc-41fe-9bf5-f684b06a5121",
        "colab": {
          "base_uri": "https://localhost:8080/",
          "height": 241
        }
      },
      "source": [
        "brcancer.head()"
      ],
      "execution_count": null,
      "outputs": [
        {
          "output_type": "execute_result",
          "data": {
            "text/html": [
              "<div>\n",
              "<style scoped>\n",
              "    .dataframe tbody tr th:only-of-type {\n",
              "        vertical-align: middle;\n",
              "    }\n",
              "\n",
              "    .dataframe tbody tr th {\n",
              "        vertical-align: top;\n",
              "    }\n",
              "\n",
              "    .dataframe thead th {\n",
              "        text-align: right;\n",
              "    }\n",
              "</style>\n",
              "<table border=\"1\" class=\"dataframe\">\n",
              "  <thead>\n",
              "    <tr style=\"text-align: right;\">\n",
              "      <th></th>\n",
              "      <th>id</th>\n",
              "      <th>diagnosis</th>\n",
              "      <th>radius_mean</th>\n",
              "      <th>texture_mean</th>\n",
              "      <th>perimeter_mean</th>\n",
              "      <th>area_mean</th>\n",
              "      <th>smoothness_mean</th>\n",
              "      <th>compactness_mean</th>\n",
              "      <th>concavity_mean</th>\n",
              "      <th>concave points_mean</th>\n",
              "      <th>symmetry_mean</th>\n",
              "      <th>fractal_dimension_mean</th>\n",
              "      <th>radius_se</th>\n",
              "      <th>texture_se</th>\n",
              "      <th>perimeter_se</th>\n",
              "      <th>area_se</th>\n",
              "      <th>smoothness_se</th>\n",
              "      <th>compactness_se</th>\n",
              "      <th>concavity_se</th>\n",
              "      <th>concave points_se</th>\n",
              "      <th>symmetry_se</th>\n",
              "      <th>fractal_dimension_se</th>\n",
              "      <th>radius_worst</th>\n",
              "      <th>texture_worst</th>\n",
              "      <th>perimeter_worst</th>\n",
              "      <th>area_worst</th>\n",
              "      <th>smoothness_worst</th>\n",
              "      <th>compactness_worst</th>\n",
              "      <th>concavity_worst</th>\n",
              "      <th>concave points_worst</th>\n",
              "      <th>symmetry_worst</th>\n",
              "      <th>fractal_dimension_worst</th>\n",
              "      <th>Unnamed: 32</th>\n",
              "    </tr>\n",
              "  </thead>\n",
              "  <tbody>\n",
              "    <tr>\n",
              "      <th>0</th>\n",
              "      <td>842302</td>\n",
              "      <td>M</td>\n",
              "      <td>17.99</td>\n",
              "      <td>10.38</td>\n",
              "      <td>122.80</td>\n",
              "      <td>1001.0</td>\n",
              "      <td>0.11840</td>\n",
              "      <td>0.27760</td>\n",
              "      <td>0.3001</td>\n",
              "      <td>0.14710</td>\n",
              "      <td>0.2419</td>\n",
              "      <td>0.07871</td>\n",
              "      <td>1.0950</td>\n",
              "      <td>0.9053</td>\n",
              "      <td>8.589</td>\n",
              "      <td>153.40</td>\n",
              "      <td>0.006399</td>\n",
              "      <td>0.04904</td>\n",
              "      <td>0.05373</td>\n",
              "      <td>0.01587</td>\n",
              "      <td>0.03003</td>\n",
              "      <td>0.006193</td>\n",
              "      <td>25.38</td>\n",
              "      <td>17.33</td>\n",
              "      <td>184.60</td>\n",
              "      <td>2019.0</td>\n",
              "      <td>0.1622</td>\n",
              "      <td>0.6656</td>\n",
              "      <td>0.7119</td>\n",
              "      <td>0.2654</td>\n",
              "      <td>0.4601</td>\n",
              "      <td>0.11890</td>\n",
              "      <td>NaN</td>\n",
              "    </tr>\n",
              "    <tr>\n",
              "      <th>1</th>\n",
              "      <td>842517</td>\n",
              "      <td>M</td>\n",
              "      <td>20.57</td>\n",
              "      <td>17.77</td>\n",
              "      <td>132.90</td>\n",
              "      <td>1326.0</td>\n",
              "      <td>0.08474</td>\n",
              "      <td>0.07864</td>\n",
              "      <td>0.0869</td>\n",
              "      <td>0.07017</td>\n",
              "      <td>0.1812</td>\n",
              "      <td>0.05667</td>\n",
              "      <td>0.5435</td>\n",
              "      <td>0.7339</td>\n",
              "      <td>3.398</td>\n",
              "      <td>74.08</td>\n",
              "      <td>0.005225</td>\n",
              "      <td>0.01308</td>\n",
              "      <td>0.01860</td>\n",
              "      <td>0.01340</td>\n",
              "      <td>0.01389</td>\n",
              "      <td>0.003532</td>\n",
              "      <td>24.99</td>\n",
              "      <td>23.41</td>\n",
              "      <td>158.80</td>\n",
              "      <td>1956.0</td>\n",
              "      <td>0.1238</td>\n",
              "      <td>0.1866</td>\n",
              "      <td>0.2416</td>\n",
              "      <td>0.1860</td>\n",
              "      <td>0.2750</td>\n",
              "      <td>0.08902</td>\n",
              "      <td>NaN</td>\n",
              "    </tr>\n",
              "    <tr>\n",
              "      <th>2</th>\n",
              "      <td>84300903</td>\n",
              "      <td>M</td>\n",
              "      <td>19.69</td>\n",
              "      <td>21.25</td>\n",
              "      <td>130.00</td>\n",
              "      <td>1203.0</td>\n",
              "      <td>0.10960</td>\n",
              "      <td>0.15990</td>\n",
              "      <td>0.1974</td>\n",
              "      <td>0.12790</td>\n",
              "      <td>0.2069</td>\n",
              "      <td>0.05999</td>\n",
              "      <td>0.7456</td>\n",
              "      <td>0.7869</td>\n",
              "      <td>4.585</td>\n",
              "      <td>94.03</td>\n",
              "      <td>0.006150</td>\n",
              "      <td>0.04006</td>\n",
              "      <td>0.03832</td>\n",
              "      <td>0.02058</td>\n",
              "      <td>0.02250</td>\n",
              "      <td>0.004571</td>\n",
              "      <td>23.57</td>\n",
              "      <td>25.53</td>\n",
              "      <td>152.50</td>\n",
              "      <td>1709.0</td>\n",
              "      <td>0.1444</td>\n",
              "      <td>0.4245</td>\n",
              "      <td>0.4504</td>\n",
              "      <td>0.2430</td>\n",
              "      <td>0.3613</td>\n",
              "      <td>0.08758</td>\n",
              "      <td>NaN</td>\n",
              "    </tr>\n",
              "    <tr>\n",
              "      <th>3</th>\n",
              "      <td>84348301</td>\n",
              "      <td>M</td>\n",
              "      <td>11.42</td>\n",
              "      <td>20.38</td>\n",
              "      <td>77.58</td>\n",
              "      <td>386.1</td>\n",
              "      <td>0.14250</td>\n",
              "      <td>0.28390</td>\n",
              "      <td>0.2414</td>\n",
              "      <td>0.10520</td>\n",
              "      <td>0.2597</td>\n",
              "      <td>0.09744</td>\n",
              "      <td>0.4956</td>\n",
              "      <td>1.1560</td>\n",
              "      <td>3.445</td>\n",
              "      <td>27.23</td>\n",
              "      <td>0.009110</td>\n",
              "      <td>0.07458</td>\n",
              "      <td>0.05661</td>\n",
              "      <td>0.01867</td>\n",
              "      <td>0.05963</td>\n",
              "      <td>0.009208</td>\n",
              "      <td>14.91</td>\n",
              "      <td>26.50</td>\n",
              "      <td>98.87</td>\n",
              "      <td>567.7</td>\n",
              "      <td>0.2098</td>\n",
              "      <td>0.8663</td>\n",
              "      <td>0.6869</td>\n",
              "      <td>0.2575</td>\n",
              "      <td>0.6638</td>\n",
              "      <td>0.17300</td>\n",
              "      <td>NaN</td>\n",
              "    </tr>\n",
              "    <tr>\n",
              "      <th>4</th>\n",
              "      <td>84358402</td>\n",
              "      <td>M</td>\n",
              "      <td>20.29</td>\n",
              "      <td>14.34</td>\n",
              "      <td>135.10</td>\n",
              "      <td>1297.0</td>\n",
              "      <td>0.10030</td>\n",
              "      <td>0.13280</td>\n",
              "      <td>0.1980</td>\n",
              "      <td>0.10430</td>\n",
              "      <td>0.1809</td>\n",
              "      <td>0.05883</td>\n",
              "      <td>0.7572</td>\n",
              "      <td>0.7813</td>\n",
              "      <td>5.438</td>\n",
              "      <td>94.44</td>\n",
              "      <td>0.011490</td>\n",
              "      <td>0.02461</td>\n",
              "      <td>0.05688</td>\n",
              "      <td>0.01885</td>\n",
              "      <td>0.01756</td>\n",
              "      <td>0.005115</td>\n",
              "      <td>22.54</td>\n",
              "      <td>16.67</td>\n",
              "      <td>152.20</td>\n",
              "      <td>1575.0</td>\n",
              "      <td>0.1374</td>\n",
              "      <td>0.2050</td>\n",
              "      <td>0.4000</td>\n",
              "      <td>0.1625</td>\n",
              "      <td>0.2364</td>\n",
              "      <td>0.07678</td>\n",
              "      <td>NaN</td>\n",
              "    </tr>\n",
              "  </tbody>\n",
              "</table>\n",
              "</div>"
            ],
            "text/plain": [
              "         id diagnosis  ...  fractal_dimension_worst  Unnamed: 32\n",
              "0    842302         M  ...                  0.11890          NaN\n",
              "1    842517         M  ...                  0.08902          NaN\n",
              "2  84300903         M  ...                  0.08758          NaN\n",
              "3  84348301         M  ...                  0.17300          NaN\n",
              "4  84358402         M  ...                  0.07678          NaN\n",
              "\n",
              "[5 rows x 33 columns]"
            ]
          },
          "metadata": {
            "tags": []
          },
          "execution_count": 32
        }
      ]
    },
    {
      "cell_type": "code",
      "metadata": {
        "id": "5nUPY91vlDGL"
      },
      "source": [
        "brcancer_x=brcancer.drop(columns=[\"id\", \"diagnosis\",\"Unnamed: 32\"])\n",
        "brcancer_y=brcancer[\"diagnosis\"]"
      ],
      "execution_count": null,
      "outputs": []
    },
    {
      "cell_type": "code",
      "metadata": {
        "id": "SDeGYKPnmRbK",
        "outputId": "bb330114-dab3-4c42-c216-4fd5cbd1512a",
        "colab": {
          "base_uri": "https://localhost:8080/",
          "height": 221
        }
      },
      "source": [
        "brcancer_y"
      ],
      "execution_count": null,
      "outputs": [
        {
          "output_type": "execute_result",
          "data": {
            "text/plain": [
              "0      M\n",
              "1      M\n",
              "2      M\n",
              "3      M\n",
              "4      M\n",
              "      ..\n",
              "564    M\n",
              "565    M\n",
              "566    M\n",
              "567    M\n",
              "568    B\n",
              "Name: diagnosis, Length: 569, dtype: object"
            ]
          },
          "metadata": {
            "tags": []
          },
          "execution_count": 34
        }
      ]
    },
    {
      "cell_type": "code",
      "metadata": {
        "id": "xMc4VjNLmmJb",
        "outputId": "498107ad-0791-4c92-b3da-5d4213e5e5d6",
        "colab": {
          "base_uri": "https://localhost:8080/",
          "height": 34
        }
      },
      "source": [
        "wine_x.shape"
      ],
      "execution_count": null,
      "outputs": [
        {
          "output_type": "execute_result",
          "data": {
            "text/plain": [
              "(178, 13)"
            ]
          },
          "metadata": {
            "tags": []
          },
          "execution_count": 35
        }
      ]
    },
    {
      "cell_type": "code",
      "metadata": {
        "id": "idgrw1R_msi2",
        "outputId": "adb14de7-20eb-4561-f167-0f3a408999c0",
        "colab": {
          "base_uri": "https://localhost:8080/",
          "height": 34
        }
      },
      "source": [
        "wine_y.shape"
      ],
      "execution_count": null,
      "outputs": [
        {
          "output_type": "execute_result",
          "data": {
            "text/plain": [
              "(178,)"
            ]
          },
          "metadata": {
            "tags": []
          },
          "execution_count": 36
        }
      ]
    },
    {
      "cell_type": "code",
      "metadata": {
        "id": "z-EIc5oUcWFL",
        "outputId": "2a51b2fa-ced0-4249-8099-05cfff2d5d8d",
        "colab": {
          "base_uri": "https://localhost:8080/",
          "height": 34
        }
      },
      "source": [
        "digit_x.shape"
      ],
      "execution_count": null,
      "outputs": [
        {
          "output_type": "execute_result",
          "data": {
            "text/plain": [
              "(1797, 64)"
            ]
          },
          "metadata": {
            "tags": []
          },
          "execution_count": 37
        }
      ]
    },
    {
      "cell_type": "code",
      "metadata": {
        "id": "RW5I4wtTcYYY",
        "outputId": "4cac5ef2-866e-4ce9-9e47-0e6759b29457",
        "colab": {
          "base_uri": "https://localhost:8080/",
          "height": 34
        }
      },
      "source": [
        "digit_y.shape"
      ],
      "execution_count": null,
      "outputs": [
        {
          "output_type": "execute_result",
          "data": {
            "text/plain": [
              "(1797,)"
            ]
          },
          "metadata": {
            "tags": []
          },
          "execution_count": 38
        }
      ]
    },
    {
      "cell_type": "code",
      "metadata": {
        "id": "wXmRIp9WjCqq",
        "outputId": "c7a99c85-7f05-42bf-ddc6-d5ca6bec61bc",
        "colab": {
          "base_uri": "https://localhost:8080/",
          "height": 34
        }
      },
      "source": [
        "brcancer_x.shape"
      ],
      "execution_count": null,
      "outputs": [
        {
          "output_type": "execute_result",
          "data": {
            "text/plain": [
              "(569, 30)"
            ]
          },
          "metadata": {
            "tags": []
          },
          "execution_count": 39
        }
      ]
    },
    {
      "cell_type": "code",
      "metadata": {
        "id": "-MdnmKzrjF0Q",
        "outputId": "80003da2-27cb-42a4-d21b-a217cdb34cee",
        "colab": {
          "base_uri": "https://localhost:8080/",
          "height": 34
        }
      },
      "source": [
        "brcancer_y.shape"
      ],
      "execution_count": null,
      "outputs": [
        {
          "output_type": "execute_result",
          "data": {
            "text/plain": [
              "(569,)"
            ]
          },
          "metadata": {
            "tags": []
          },
          "execution_count": 40
        }
      ]
    },
    {
      "cell_type": "markdown",
      "metadata": {
        "id": "U1rd-njVcdAA"
      },
      "source": [
        "# Visualization of data"
      ]
    },
    {
      "cell_type": "code",
      "metadata": {
        "id": "YUWmz6lMcare",
        "outputId": "9384b403-2fcc-4e47-f1ec-918c0928f89a",
        "colab": {
          "base_uri": "https://localhost:8080/",
          "height": 282
        }
      },
      "source": [
        "image_temp=np.reshape(digit_x[12],(8,8))\n",
        "plt.imshow(image_temp)"
      ],
      "execution_count": null,
      "outputs": [
        {
          "output_type": "execute_result",
          "data": {
            "text/plain": [
              "<matplotlib.image.AxesImage at 0x7f2c019e6a58>"
            ]
          },
          "metadata": {
            "tags": []
          },
          "execution_count": 41
        },
        {
          "output_type": "display_data",
          "data": {
            "image/png": "[encoded data removed]",
            "text/plain": [
              "<Figure size 432x288 with 1 Axes>"
            ]
          },
          "metadata": {
            "tags": []
          }
        }
      ]
    },
    {
      "cell_type": "code",
      "metadata": {
        "id": "ULQJ0rwchTyY",
        "outputId": "a3da4387-4bda-48ad-cc9c-120966705338",
        "colab": {
          "base_uri": "https://localhost:8080/",
          "height": 34
        }
      },
      "source": [
        "digit_y[12]"
      ],
      "execution_count": null,
      "outputs": [
        {
          "output_type": "execute_result",
          "data": {
            "text/plain": [
              "2"
            ]
          },
          "metadata": {
            "tags": []
          },
          "execution_count": 42
        }
      ]
    },
    {
      "cell_type": "code",
      "metadata": {
        "id": "uToWdb__innU",
        "outputId": "616239be-d736-49d7-82be-8835ecc863b5",
        "colab": {
          "base_uri": "https://localhost:8080/",
          "height": 544
        }
      },
      "source": [
        "brcancer_x.iloc[0]"
      ],
      "execution_count": null,
      "outputs": [
        {
          "output_type": "execute_result",
          "data": {
            "text/plain": [
              "radius_mean                  17.990000\n",
              "texture_mean                 10.380000\n",
              "perimeter_mean              122.800000\n",
              "area_mean                  1001.000000\n",
              "smoothness_mean               0.118400\n",
              "compactness_mean              0.277600\n",
              "concavity_mean                0.300100\n",
              "concave points_mean           0.147100\n",
              "symmetry_mean                 0.241900\n",
              "fractal_dimension_mean        0.078710\n",
              "radius_se                     1.095000\n",
              "texture_se                    0.905300\n",
              "perimeter_se                  8.589000\n",
              "area_se                     153.400000\n",
              "smoothness_se                 0.006399\n",
              "compactness_se                0.049040\n",
              "concavity_se                  0.053730\n",
              "concave points_se             0.015870\n",
              "symmetry_se                   0.030030\n",
              "fractal_dimension_se          0.006193\n",
              "radius_worst                 25.380000\n",
              "texture_worst                17.330000\n",
              "perimeter_worst             184.600000\n",
              "area_worst                 2019.000000\n",
              "smoothness_worst              0.162200\n",
              "compactness_worst             0.665600\n",
              "concavity_worst               0.711900\n",
              "concave points_worst          0.265400\n",
              "symmetry_worst                0.460100\n",
              "fractal_dimension_worst       0.118900\n",
              "Name: 0, dtype: float64"
            ]
          },
          "metadata": {
            "tags": []
          },
          "execution_count": 43
        }
      ]
    },
    {
      "cell_type": "code",
      "metadata": {
        "id": "TKhhNPUSmX6E",
        "outputId": "e17bb522-48dd-4e04-e1ad-2ebc86ca2a04",
        "colab": {
          "base_uri": "https://localhost:8080/",
          "height": 68
        }
      },
      "source": [
        "wine_x[0]"
      ],
      "execution_count": null,
      "outputs": [
        {
          "output_type": "execute_result",
          "data": {
            "text/plain": [
              "array([1.423e+01, 1.710e+00, 2.430e+00, 1.560e+01, 1.270e+02, 2.800e+00,\n",
              "       3.060e+00, 2.800e-01, 2.290e+00, 5.640e+00, 1.040e+00, 3.920e+00,\n",
              "       1.065e+03])"
            ]
          },
          "metadata": {
            "tags": []
          },
          "execution_count": 44
        }
      ]
    },
    {
      "cell_type": "markdown",
      "metadata": {
        "id": "9Zva8BrdnSpE"
      },
      "source": [
        "# Splitting datasets"
      ]
    },
    {
      "cell_type": "code",
      "metadata": {
        "id": "zGFEAle6ndwN"
      },
      "source": [
        "brcancer_x_train,brcancer_x_test, brcancer_y_train,  brcancer_y_test= model_selection.train_test_split(brcancer_x, brcancer_y, test_size=0.2)\n",
        "wine_x_train, wine_x_test, wine_y_train, wine_y_test=model_selection.train_test_split(wine_x, wine_y, test_size=0.2)\n",
        "digit_x_train, digit_x_test, digit_y_train, digit_y_test=model_selection.train_test_split(digit_x,digit_y,test_size=0.2)\n",
        " "
      ],
      "execution_count": null,
      "outputs": []
    },
    {
      "cell_type": "markdown",
      "metadata": {
        "id": "csb8EK5pQo9F"
      },
      "source": [
        "# Initialization of training models"
      ]
    },
    {
      "cell_type": "code",
      "metadata": {
        "id": "97GTeEoaQnkY"
      },
      "source": [
        "#logistic regression classification\n",
        "brcancer_reg= linear_model.LogisticRegression(max_iter=200)\n",
        "wine_reg= linear_model.LogisticRegression(max_iter=200)\n",
        "digit_reg=linear_model.LogisticRegression(max_iter=200)"
      ],
      "execution_count": null,
      "outputs": []
    },
    {
      "cell_type": "code",
      "metadata": {
        "id": "o0bvYQ1aSDjZ"
      },
      "source": [
        "#SVC(gaussian)\n",
        "brcancer_svc_gaussian= svm.SVC(kernel=\"rbf\")\n",
        "wine_svc_gaussian= svm.SVC(kernel=\"rbf\")\n",
        "digit_svc_gaussian=svm.SVC(kernel=\"rbf\")"
      ],
      "execution_count": null,
      "outputs": []
    },
    {
      "cell_type": "code",
      "metadata": {
        "id": "enm5UozJSmcR"
      },
      "source": [
        "#SVC(sigmoid)\n",
        "brcancer_svc_sigmoid=svm.SVC(kernel=\"sigmoid\")\n",
        "wine_svc_sigmoid=svm.SVC(kernel=\"sigmoid\")\n",
        "digit_svc_sigmoid=svm.SVC(kernel=\"sigmoid\")"
      ],
      "execution_count": null,
      "outputs": []
    },
    {
      "cell_type": "code",
      "metadata": {
        "id": "XL2XBx7d2GLT"
      },
      "source": [
        "#SVC(polynomial)\n",
        "brcancer_svc_poly= svm.SVC(kernel=\"poly\", degree=3)\n",
        "wine_svc_poly=svm.SVC(kernel=\"poly\", degree=3)\n",
        "digit_svc_poly=svm.SVC(kernel=\"poly\",degree=3)"
      ],
      "execution_count": null,
      "outputs": []
    },
    {
      "cell_type": "markdown",
      "metadata": {
        "id": "DTIfobLL3ZDu"
      },
      "source": [
        "# Training the models"
      ]
    },
    {
      "cell_type": "code",
      "metadata": {
        "id": "gXnNK7EW3Xtc",
        "outputId": "ea4bd987-74c5-41a1-b532-518cd84cd703",
        "colab": {
          "base_uri": "https://localhost:8080/",
          "height": 510
        }
      },
      "source": [
        "# logistic regression training\n",
        "brcancer_reg.fit(brcancer_x_train,brcancer_y_train)\n",
        "wine_reg.fit(wine_x_train, wine_y_train)\n",
        "digit_reg.fit(digit_x_train,digit_y_train)"
      ],
      "execution_count": null,
      "outputs": [
        {
          "output_type": "stream",
          "text": [
            "/usr/local/lib/python3.6/dist-packages/sklearn/linear_model/_logistic.py:940: ConvergenceWarning: lbfgs failed to converge (status=1):\n",
            "STOP: TOTAL NO. of ITERATIONS REACHED LIMIT.\n",
            "\n",
            "Increase the number of iterations (max_iter) or scale the data as shown in:\n",
            "    https://scikit-learn.org/stable/modules/preprocessing.html\n",
            "Please also refer to the documentation for alternative solver options:\n",
            "    https://scikit-learn.org/stable/modules/linear_model.html#logistic-regression\n",
            "  extra_warning_msg=_LOGISTIC_SOLVER_CONVERGENCE_MSG)\n",
            "/usr/local/lib/python3.6/dist-packages/sklearn/linear_model/_logistic.py:940: ConvergenceWarning: lbfgs failed to converge (status=1):\n",
            "STOP: TOTAL NO. of ITERATIONS REACHED LIMIT.\n",
            "\n",
            "Increase the number of iterations (max_iter) or scale the data as shown in:\n",
            "    https://scikit-learn.org/stable/modules/preprocessing.html\n",
            "Please also refer to the documentation for alternative solver options:\n",
            "    https://scikit-learn.org/stable/modules/linear_model.html#logistic-regression\n",
            "  extra_warning_msg=_LOGISTIC_SOLVER_CONVERGENCE_MSG)\n",
            "/usr/local/lib/python3.6/dist-packages/sklearn/linear_model/_logistic.py:940: ConvergenceWarning: lbfgs failed to converge (status=1):\n",
            "STOP: TOTAL NO. of ITERATIONS REACHED LIMIT.\n",
            "\n",
            "Increase the number of iterations (max_iter) or scale the data as shown in:\n",
            "    https://scikit-learn.org/stable/modules/preprocessing.html\n",
            "Please also refer to the documentation for alternative solver options:\n",
            "    https://scikit-learn.org/stable/modules/linear_model.html#logistic-regression\n",
            "  extra_warning_msg=_LOGISTIC_SOLVER_CONVERGENCE_MSG)\n"
          ],
          "name": "stderr"
        },
        {
          "output_type": "execute_result",
          "data": {
            "text/plain": [
              "LogisticRegression(C=1.0, class_weight=None, dual=False, fit_intercept=True,\n",
              "                   intercept_scaling=1, l1_ratio=None, max_iter=200,\n",
              "                   multi_class='auto', n_jobs=None, penalty='l2',\n",
              "                   random_state=None, solver='lbfgs', tol=0.0001, verbose=0,\n",
              "                   warm_start=False)"
            ]
          },
          "metadata": {
            "tags": []
          },
          "execution_count": 50
        }
      ]
    },
    {
      "cell_type": "code",
      "metadata": {
        "id": "6BW679Id5YHI",
        "outputId": "caf77edf-ec3c-4834-91c0-d8dccce38b3c",
        "colab": {
          "base_uri": "https://localhost:8080/",
          "height": 85
        }
      },
      "source": [
        "# SVC gaussian training\n",
        "brcancer_svc_gaussian.fit(brcancer_x_train,brcancer_y_train)\n",
        "wine_svc_gaussian.fit(wine_x_train,wine_y_train)\n",
        "digit_svc_gaussian.fit(digit_x_train, digit_y_train)"
      ],
      "execution_count": null,
      "outputs": [
        {
          "output_type": "execute_result",
          "data": {
            "text/plain": [
              "SVC(C=1.0, break_ties=False, cache_size=200, class_weight=None, coef0=0.0,\n",
              "    decision_function_shape='ovr', degree=3, gamma='scale', kernel='rbf',\n",
              "    max_iter=-1, probability=False, random_state=None, shrinking=True,\n",
              "    tol=0.001, verbose=False)"
            ]
          },
          "metadata": {
            "tags": []
          },
          "execution_count": 51
        }
      ]
    },
    {
      "cell_type": "code",
      "metadata": {
        "id": "s5AFnqsl5-M4",
        "outputId": "b0e11a07-64ab-41be-ebc7-97641dd1b543",
        "colab": {
          "base_uri": "https://localhost:8080/",
          "height": 85
        }
      },
      "source": [
        "#SVC sigmoid training\n",
        "brcancer_svc_sigmoid.fit(brcancer_x_train,brcancer_y_train)\n",
        "wine_svc_sigmoid.fit(wine_x_train, wine_y_train)\n",
        "digit_svc_sigmoid.fit(digit_x_train,digit_y_train)"
      ],
      "execution_count": null,
      "outputs": [
        {
          "output_type": "execute_result",
          "data": {
            "text/plain": [
              "SVC(C=1.0, break_ties=False, cache_size=200, class_weight=None, coef0=0.0,\n",
              "    decision_function_shape='ovr', degree=3, gamma='scale', kernel='sigmoid',\n",
              "    max_iter=-1, probability=False, random_state=None, shrinking=True,\n",
              "    tol=0.001, verbose=False)"
            ]
          },
          "metadata": {
            "tags": []
          },
          "execution_count": 52
        }
      ]
    },
    {
      "cell_type": "code",
      "metadata": {
        "id": "zb9OKqox6aXZ",
        "outputId": "58df4240-7459-418a-9e41-256ad3c61b88",
        "colab": {
          "base_uri": "https://localhost:8080/",
          "height": 85
        }
      },
      "source": [
        "#SVC polynomial training\n",
        "brcancer_svc_poly.fit(brcancer_x_train,brcancer_y_train)\n",
        "wine_svc_poly.fit(wine_x_train, wine_y_train)\n",
        "digit_svc_poly.fit(digit_x_train,digit_y_train)"
      ],
      "execution_count": null,
      "outputs": [
        {
          "output_type": "execute_result",
          "data": {
            "text/plain": [
              "SVC(C=1.0, break_ties=False, cache_size=200, class_weight=None, coef0=0.0,\n",
              "    decision_function_shape='ovr', degree=3, gamma='scale', kernel='poly',\n",
              "    max_iter=-1, probability=False, random_state=None, shrinking=True,\n",
              "    tol=0.001, verbose=False)"
            ]
          },
          "metadata": {
            "tags": []
          },
          "execution_count": 53
        }
      ]
    },
    {
      "cell_type": "markdown",
      "metadata": {
        "id": "5BZY1huR6kSe"
      },
      "source": [
        "# Prediction"
      ]
    },
    {
      "cell_type": "code",
      "metadata": {
        "id": "tnzs7wyw6ifR"
      },
      "source": [
        "# breast_cancer\n",
        "brcancer_pred_reg= brcancer_reg.predict(brcancer_x_test)\n",
        "brcancer_pred_svc_gaussian= brcancer_svc_gaussian.predict(brcancer_x_test)\n",
        "brcancer_pred_svc_sigmoid= brcancer_svc_sigmoid.predict(brcancer_x_test)\n",
        "brcancer_pred_svc_poly=brcancer_svc_poly.predict(brcancer_x_test)"
      ],
      "execution_count": null,
      "outputs": []
    },
    {
      "cell_type": "code",
      "metadata": {
        "id": "HIw6v4gy7Ugx"
      },
      "source": [
        "# wine\n",
        "wine_pred_reg=wine_reg.predict(wine_x_test)\n",
        "wine_pred_svc_gaussian=wine_svc_gaussian.predict(wine_x_test)\n",
        "wine_pred_svc_sigmoid=wine_svc_sigmoid.predict(wine_x_test)\n",
        "wine_pred_svc_poly=wine_svc_poly.predict(wine_x_test)\n"
      ],
      "execution_count": null,
      "outputs": []
    },
    {
      "cell_type": "code",
      "metadata": {
        "id": "GpshqCDGGvgx"
      },
      "source": [
        "#digits\n",
        "digit_pred_reg=digit_reg.predict(digit_x_test)\n",
        "digit_pred_svc_gaussian=digit_svc_gaussian.predict(digit_x_test)\n",
        "digit_pred_svc_sigmoid=digit_svc_sigmoid.predict(digit_x_test)\n",
        "digit_pred_svc_poly=digit_svc_poly.predict(digit_x_test)"
      ],
      "execution_count": null,
      "outputs": []
    },
    {
      "cell_type": "markdown",
      "metadata": {
        "id": "ou2TofsKHyNv"
      },
      "source": [
        "#Score"
      ]
    },
    {
      "cell_type": "code",
      "metadata": {
        "id": "T8tDpTJ9HmGe",
        "outputId": "d030351c-229a-4ff3-a6cc-1450c26c5e2a",
        "colab": {
          "base_uri": "https://localhost:8080/",
          "height": 102
        }
      },
      "source": [
        "#breast cancer\n",
        "print(\"Scores of different models in breast_cancer datset:\" )\n",
        "br_score_reg=brcancer_reg.score(brcancer_x_test,brcancer_y_test)\n",
        "print(f\"Logistic Regression Score= {br_score_reg}\")\n",
        "br_score_svc_gaussian=brcancer_svc_gaussian.score(brcancer_x_test,brcancer_y_test)\n",
        "print(f\"Gaussian SVC Score= {br_score_svc_gaussian}\")\n",
        "br_score_svc_sigmoid=brcancer_svc_sigmoid.score(brcancer_x_test,brcancer_y_test)\n",
        "print(f\"Sigmoid SVC Score= {br_score_svc_sigmoid}\")\n",
        "br_score_svc_poly=brcancer_svc_poly.score(brcancer_x_test,brcancer_y_test)\n",
        "print(f\"Polynomial SVC Score= {br_score_svc_poly}\")"
      ],
      "execution_count": null,
      "outputs": [
        {
          "output_type": "stream",
          "text": [
            "Scores of different models in breast_cancer datset:\n",
            "Logistic Regression Score= 0.9473684210526315\n",
            "Gaussian SVC Score= 0.8859649122807017\n",
            "Sigmoid SVC Score= 0.4473684210526316\n",
            "Polynomial SVC Score= 0.8859649122807017\n"
          ],
          "name": "stdout"
        }
      ]
    },
    {
      "cell_type": "code",
      "metadata": {
        "id": "8iNCmkY8JLAe",
        "outputId": "50c5d46e-855c-432a-836a-29d864f6ccf1",
        "colab": {
          "base_uri": "https://localhost:8080/",
          "height": 102
        }
      },
      "source": [
        "#wine\n",
        "print(\"Scores of different models in wine datset:\" )\n",
        "wine_score_reg=wine_reg.score(wine_x_test,wine_y_test)\n",
        "print(f\"Logistic Regression Score= {wine_score_reg}\")\n",
        "wine_score_svc_gaussian=wine_svc_gaussian.score(wine_x_test,wine_y_test)\n",
        "print(f\"Gaussian SVC Score= {wine_score_svc_gaussian}\")\n",
        "wine_score_svc_sigmoid=wine_svc_sigmoid.score(wine_x_test,wine_y_test)\n",
        "print(f\"Sigmoid SVC Score= {wine_score_svc_sigmoid}\")\n",
        "wine_score_svc_poly=wine_svc_poly.score(wine_x_test,wine_y_test)\n",
        "print(f\"Polynomial SVC Score= {wine_score_svc_poly}\")"
      ],
      "execution_count": null,
      "outputs": [
        {
          "output_type": "stream",
          "text": [
            "Scores of different models in wine datset:\n",
            "Logistic Regression Score= 0.9722222222222222\n",
            "Gaussian SVC Score= 0.6944444444444444\n",
            "Sigmoid SVC Score= 0.1111111111111111\n",
            "Polynomial SVC Score= 0.7222222222222222\n"
          ],
          "name": "stdout"
        }
      ]
    },
    {
      "cell_type": "code",
      "metadata": {
        "id": "lLdmmyWILUFD",
        "outputId": "bcbcded2-6a74-484f-ae4d-6babbb9fd6e0",
        "colab": {
          "base_uri": "https://localhost:8080/",
          "height": 102
        }
      },
      "source": [
        "#digit\n",
        "print(\"Scores of different models in digit datset:\" )\n",
        "digit_score_reg=digit_reg.score(digit_x_test,digit_y_test)\n",
        "print(f\"Logistic Regression Score= {digit_score_reg}\")\n",
        "digit_score_svc_gaussian=digit_svc_gaussian.score(digit_x_test,digit_y_test)\n",
        "print(f\"Gaussian SVC Score= {digit_score_svc_gaussian}\")\n",
        "digit_score_svc_sigmoid=digit_svc_sigmoid.score(digit_x_test,digit_y_test)\n",
        "print(f\"Sigmoid SVC Score= {digit_score_svc_sigmoid}\")\n",
        "digit_score_svc_poly=digit_svc_poly.score(digit_x_test,digit_y_test)\n",
        "print(f\"Polynomial SVC Score= {digit_score_svc_poly}\")"
      ],
      "execution_count": null,
      "outputs": [
        {
          "output_type": "stream",
          "text": [
            "Scores of different models in digit datset:\n",
            "Logistic Regression Score= 0.9555555555555556\n",
            "Gaussian SVC Score= 0.9916666666666667\n",
            "Sigmoid SVC Score= 0.9138888888888889\n",
            "Polynomial SVC Score= 0.9944444444444445\n"
          ],
          "name": "stdout"
        }
      ]
    },
    {
      "cell_type": "markdown",
      "metadata": {
        "id": "ofBycNAFLof9"
      },
      "source": [
        "# Confusion Matrix"
      ]
    },
    {
      "cell_type": "code",
      "metadata": {
        "id": "DSUtWiUaLnLW",
        "outputId": "ce726e0b-605f-4f5c-b8a0-1a71df171c12",
        "colab": {
          "base_uri": "https://localhost:8080/",
          "height": 404
        }
      },
      "source": [
        "# breast_cancer\n",
        "br_cm_reg= metrics.confusion_matrix(brcancer_y_test, brcancer_pred_reg)\n",
        "br_cm_svc_gaussian= metrics.confusion_matrix(brcancer_y_test, brcancer_pred_svc_gaussian)\n",
        "br_cm_svc_sigmoid= metrics.confusion_matrix(brcancer_y_test,brcancer_pred_svc_sigmoid)\n",
        "br_cm_svc_poly= metrics.confusion_matrix(brcancer_y_test, brcancer_pred_svc_poly)\n",
        "print(\" Confusion Matrix for breast_cancer dataset\")\n",
        "plt.figure(figsize=[22,5])\n",
        "plt.subplot(1,4,1)\n",
        "sns.heatmap(br_cm_reg, annot=True)\n",
        "plt.title(f\"Logistic Regression: Score= {br_score_reg}\")\n",
        "plt.ylabel(\"Actual label\")\n",
        "plt.xlabel(\"Predicted label\")\n",
        "plt.subplot(1,4,2)\n",
        "plt.title(f\"SVC_gaussian: Score= {br_score_svc_gaussian}\")\n",
        "sns.heatmap(br_cm_svc_gaussian, annot=True)\n",
        "plt.ylabel(\"Actual label\")\n",
        "plt.xlabel(\"Predicted label\")\n",
        "plt.subplot(1,4,3)\n",
        "plt.title(f\"SVC_sigmoid: Score= {br_score_svc_sigmoid}\")\n",
        "sns.heatmap(br_cm_svc_sigmoid, annot=True)\n",
        "plt.ylabel(\"Actual label\")\n",
        "plt.xlabel(\"Predicted label\")\n",
        "plt.subplot(1,4,4)\n",
        "plt.title(f\"SVC_polynomial: Score= {br_score_svc_poly}\")\n",
        "sns.heatmap(br_cm_svc_poly, annot=True)\n",
        "plt.ylabel(\"Actual label\")\n",
        "plt.xlabel(\"Predicted label\")"
      ],
      "execution_count": null,
      "outputs": [
        {
          "output_type": "stream",
          "text": [
            " Confusion Matrix for breast_cancer dataset\n"
          ],
          "name": "stdout"
        },
        {
          "output_type": "execute_result",
          "data": {
            "text/plain": [
              "Text(0.5, 24.0, 'Predicted label')"
            ]
          },
          "metadata": {
            "tags": []
          },
          "execution_count": 95
        },
        {
          "output_type": "display_data",
          "data": {
            "image/png": "[encoded data removed]",
            "text/plain": [
              "<Figure size 1584x360 with 8 Axes>"
            ]
          },
          "metadata": {
            "tags": []
          }
        }
      ]
    },
    {
      "cell_type": "code",
      "metadata": {
        "id": "kCi_S442OjPS",
        "outputId": "bc836e34-5051-4b31-9f06-d97d96c55b50",
        "colab": {
          "base_uri": "https://localhost:8080/",
          "height": 404
        }
      },
      "source": [
        "# wine\n",
        "wine_cm_reg= metrics.confusion_matrix(wine_y_test, wine_pred_reg)\n",
        "wine_cm_svc_gaussian= metrics.confusion_matrix(wine_y_test, wine_pred_svc_gaussian)\n",
        "wine_cm_svc_sigmoid= metrics.confusion_matrix(wine_y_test,wine_pred_svc_sigmoid)\n",
        "wine_cm_svc_poly= metrics.confusion_matrix(wine_y_test, wine_pred_svc_poly)\n",
        "print(\" Confusion Matrix for wine dataset\")\n",
        "plt.figure(figsize=[22,5])\n",
        "plt.subplot(1,4,1)\n",
        "sns.heatmap(wine_cm_reg, annot=True)\n",
        "plt.title(f\"Logistic Regression: Score={wine_score_reg}\")\n",
        "plt.ylabel(\"Actual label\")\n",
        "plt.xlabel(\"Predicted label\")\n",
        "plt.subplot(1,4,2)\n",
        "plt.title(f\"SVC_gaussian: Score={wine_score_svc_gaussian}\")\n",
        "sns.heatmap(wine_cm_svc_gaussian, annot=True)\n",
        "plt.ylabel(\"Actual label\")\n",
        "plt.xlabel(\"Predicted label\")\n",
        "plt.subplot(1,4,3)\n",
        "plt.title(f\"SVC_sigmoid: Score={wine_score_svc_sigmoid}\")\n",
        "sns.heatmap(wine_cm_svc_sigmoid, annot=True)\n",
        "plt.ylabel(\"Actual label\")\n",
        "plt.xlabel(\"Predicted label\")\n",
        "plt.subplot(1,4,4)\n",
        "plt.title(f\"SVC_polynomial: Score={wine_score_svc_poly}\")\n",
        "sns.heatmap(wine_cm_svc_poly, annot=True)\n",
        "plt.ylabel(\"Actual label\")\n",
        "plt.xlabel(\"Predicted label\")"
      ],
      "execution_count": null,
      "outputs": [
        {
          "output_type": "stream",
          "text": [
            " Confusion Matrix for wine dataset\n"
          ],
          "name": "stdout"
        },
        {
          "output_type": "execute_result",
          "data": {
            "text/plain": [
              "Text(0.5, 24.0, 'Predicted label')"
            ]
          },
          "metadata": {
            "tags": []
          },
          "execution_count": 94
        },
        {
          "output_type": "display_data",
          "data": {
            "image/png": "[encoded data removed]",
            "text/plain": [
              "<Figure size 1584x360 with 8 Axes>"
            ]
          },
          "metadata": {
            "tags": []
          }
        }
      ]
    },
    {
      "cell_type": "code",
      "metadata": {
        "id": "IzkSUis5RQnw",
        "outputId": "a1a405fe-12df-4dab-f849-7c908748728d",
        "colab": {
          "base_uri": "https://localhost:8080/",
          "height": 404
        }
      },
      "source": [
        "# digits\n",
        "digit_cm_reg= metrics.confusion_matrix(digit_y_test, digit_pred_reg)\n",
        "digit_cm_svc_gaussian= metrics.confusion_matrix(digit_y_test, digit_pred_svc_gaussian)\n",
        "digit_cm_svc_sigmoid= metrics.confusion_matrix(digit_y_test,digit_pred_svc_sigmoid)\n",
        "digit_cm_svc_poly= metrics.confusion_matrix(digit_y_test, digit_pred_svc_poly)\n",
        "print(\" Confusion Matrix for digits dataset\")\n",
        "plt.figure(figsize=[22,5])\n",
        "plt.subplot(1,4,1)\n",
        "sns.heatmap(digit_cm_reg, annot=True)\n",
        "plt.title(f\"Logistic Regression: Score={digit_score_reg}\")\n",
        "plt.ylabel(\"Actual label\")\n",
        "plt.xlabel(\"Predicted label\")\n",
        "plt.subplot(1,4,2)\n",
        "plt.title(f\"SVC_gaussian: Score={digit_score_svc_gaussian}\")\n",
        "sns.heatmap(digit_cm_svc_gaussian, annot=True)\n",
        "plt.ylabel(\"Actual label\")\n",
        "plt.xlabel(\"Predicted label\")\n",
        "plt.subplot(1,4,3)\n",
        "plt.title(f\"SVC_sigmoid: Score={digit_score_svc_sigmoid}\")\n",
        "sns.heatmap(digit_cm_svc_sigmoid, annot=True)\n",
        "plt.ylabel(\"Actual label\")\n",
        "plt.xlabel(\"Predicted label\")\n",
        "plt.subplot(1,4,4)\n",
        "plt.title(f\"SVC_polynomial: Score={digit_score_svc_poly}\")\n",
        "sns.heatmap(digit_cm_svc_poly, annot=True)\n",
        "plt.ylabel(\"Actual label\")\n",
        "plt.xlabel(\"Predicted label\")"
      ],
      "execution_count": null,
      "outputs": [
        {
          "output_type": "stream",
          "text": [
            " Confusion Matrix for digits dataset\n"
          ],
          "name": "stdout"
        },
        {
          "output_type": "execute_result",
          "data": {
            "text/plain": [
              "Text(0.5, 24.0, 'Predicted label')"
            ]
          },
          "metadata": {
            "tags": []
          },
          "execution_count": 96
        },
        {
          "output_type": "display_data",
          "data": {
            "image/png": "[encoded data removed]",
            "text/plain": [
              "<Figure size 1584x360 with 8 Axes>"
            ]
          },
          "metadata": {
            "tags": []
          }
        }
      ]
    },
    {
      "cell_type": "code",
      "metadata": {
        "id": "UvCPwZCPcj2d"
      },
      "source": [
        "\n",
        "\n"
      ],
      "execution_count": null,
      "outputs": []
    }
  ]
}